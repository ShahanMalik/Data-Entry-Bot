{
 "cells": [
  {
   "cell_type": "code",
   "execution_count": null,
   "metadata": {},
   "outputs": [],
   "source": [
    "pip install pydirectinput"
   ]
  },
  {
   "cell_type": "code",
   "execution_count": null,
   "metadata": {},
   "outputs": [],
   "source": [
    "pip install opencv-python"
   ]
  },
  {
   "cell_type": "code",
   "execution_count": null,
   "metadata": {},
   "outputs": [],
   "source": [
    "pip install mss"
   ]
  },
  {
   "cell_type": "code",
   "execution_count": null,
   "metadata": {},
   "outputs": [],
   "source": [
    "pip install pytesseract"
   ]
  },
  {
   "cell_type": "code",
   "execution_count": 10,
   "metadata": {},
   "outputs": [],
   "source": [
    "import pyautogui\n",
    "import mss\n",
    "import cv2\n",
    "import numpy as np\n",
    "import pytesseract\n",
    "import time\n",
    "\n",
    "# Set the path to the Tesseract executable\n",
    "pytesseract.pytesseract.tesseract_cmd = r'C:\\\\Program Files\\\\Tesseract-OCR\\\\tesseract.exe'\n",
    "\n",
    "def click_on_image(image_path, confidence=0.8):\n",
    "    with mss.mss() as sct:\n",
    "        # Get the screen dimensions\n",
    "        monitor = sct.monitors[1]\n",
    "        screenshot = sct.grab(monitor)\n",
    "\n",
    "        # Convert the screenshot to a numpy array\n",
    "        img = np.array(screenshot)\n",
    "\n",
    "        # Load the template image\n",
    "        template = cv2.imread(image_path, cv2.IMREAD_GRAYSCALE)\n",
    "        template_w, template_h = template.shape[::-1]\n",
    "\n",
    "        # Convert the screenshot to grayscale\n",
    "        gray = cv2.cvtColor(img, cv2.COLOR_BGR2GRAY)\n",
    "\n",
    "        # Use template matching to find the template in the screenshot\n",
    "        res = cv2.matchTemplate(gray, template, cv2.TM_CCOEFF_NORMED)\n",
    "        min_val, max_val, min_loc, max_loc = cv2.minMaxLoc(res)\n",
    "\n",
    "        # Check if the match is above the confidence threshold\n",
    "        if max_val >= confidence:\n",
    "            # Calculate the center of the matched region\n",
    "            center_x = max_loc[0] + template_w // 2\n",
    "            center_y = max_loc[1] + template_h // 2\n",
    "\n",
    "            # Move the mouse to the center of the matched region and click\n",
    "            pyautogui.moveTo(center_x, center_y)\n",
    "            time.sleep(1)\n",
    "            pyautogui.click()\n",
    "            return\n",
    "\n",
    "def extract_table_data(image_path):\n",
    "    # Load the image\n",
    "    img = cv2.imread(image_path)\n",
    "\n",
    "    # Convert the image to grayscale\n",
    "    gray = cv2.cvtColor(img, cv2.COLOR_BGR2GRAY)\n",
    "\n",
    "    # Apply thresholding to get a binary image\n",
    "    _, binary = cv2.threshold(gray, 150, 255, cv2.THRESH_BINARY_INV)\n",
    "\n",
    "    # Use pytesseract to do OCR on the image\n",
    "    data = pytesseract.image_to_string(binary, config='--psm 6')\n",
    "\n",
    "    # Split the data into lines\n",
    "    lines = data.split('\\n')\n",
    "\n",
    "    # Process each line to add spaces between columns\n",
    "    formatted_lines = []\n",
    "    for line in lines:\n",
    "        columns = line.split()\n",
    "        if columns:  # Ensure the line is not empty\n",
    "            formatted_lines.append(columns)\n",
    "    return formatted_lines\n",
    "\n",
    "def enter_data_into_google_sheets(data):\n",
    "    for row in data:\n",
    "        for cell in row:\n",
    "            pyautogui.write(cell)\n",
    "            pyautogui.press('tab')\n",
    "        time.sleep(1)            \n",
    "        pyautogui.press('down')    \n",
    "        pyautogui.press('home')\n",
    "\n",
    "# Click on the Chrome icon to open Chrome\n",
    "click_on_image('chrome_icon.png')\n",
    "time.sleep(1)  # Wait for Chrome to open\n",
    "\n",
    "# Extract data from datatable.png\n",
    "table_data = extract_table_data('datatable2.png')\n",
    "\n",
    "# Enter the data into Google Sheets\n",
    "enter_data_into_google_sheets(table_data)"
   ]
  }
 ],
 "metadata": {
  "kernelspec": {
   "display_name": "Python 3",
   "language": "python",
   "name": "python3"
  },
  "language_info": {
   "codemirror_mode": {
    "name": "ipython",
    "version": 3
   },
   "file_extension": ".py",
   "mimetype": "text/x-python",
   "name": "python",
   "nbconvert_exporter": "python",
   "pygments_lexer": "ipython3",
   "version": "3.10.11"
  }
 },
 "nbformat": 4,
 "nbformat_minor": 2
}
